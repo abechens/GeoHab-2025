{
 "cells": [
  {
   "cell_type": "code",
   "execution_count": 1,
   "id": "afdfcb36",
   "metadata": {},
   "outputs": [],
   "source": [
    "import numpy as np\n",
    "import pandas as pd\n",
    "from mgwr.mgwr.gwr import MGWR, GWR\n",
    "from mgwr.mgwr.sel_bw import Sel_BW\n",
    "from shapely.geometry import Point\n",
    "import geopandas as gpd\n",
    "import matplotlib.pyplot as plt\n",
    "\n"
   ]
  },
  {
   "cell_type": "code",
   "execution_count": 2,
   "id": "1a2421ee",
   "metadata": {},
   "outputs": [
    {
     "data": {
      "text/html": [
       "<div>\n",
       "<style scoped>\n",
       "    .dataframe tbody tr th:only-of-type {\n",
       "        vertical-align: middle;\n",
       "    }\n",
       "\n",
       "    .dataframe tbody tr th {\n",
       "        vertical-align: top;\n",
       "    }\n",
       "\n",
       "    .dataframe thead th {\n",
       "        text-align: right;\n",
       "    }\n",
       "</style>\n",
       "<table border=\"1\" class=\"dataframe\">\n",
       "  <thead>\n",
       "    <tr style=\"text-align: right;\">\n",
       "      <th></th>\n",
       "      <th>id</th>\n",
       "      <th>mean_gs</th>\n",
       "      <th>sd</th>\n",
       "      <th>skewness</th>\n",
       "      <th>kurtosis</th>\n",
       "      <th>current_max</th>\n",
       "      <th>current_mean</th>\n",
       "      <th>current_min</th>\n",
       "      <th>gebco</th>\n",
       "      <th>x</th>\n",
       "      <th>...</th>\n",
       "      <th>y_im</th>\n",
       "      <th>x_im</th>\n",
       "      <th>x_m</th>\n",
       "      <th>y_m</th>\n",
       "      <th>slope</th>\n",
       "      <th>aspect</th>\n",
       "      <th>rough</th>\n",
       "      <th>bpi</th>\n",
       "      <th>shore_dist</th>\n",
       "      <th>current_range</th>\n",
       "    </tr>\n",
       "  </thead>\n",
       "  <tbody>\n",
       "    <tr>\n",
       "      <th>0</th>\n",
       "      <td>1</td>\n",
       "      <td>2.48</td>\n",
       "      <td>1.33</td>\n",
       "      <td>3.70</td>\n",
       "      <td>24.33</td>\n",
       "      <td>0.164273</td>\n",
       "      <td>0.156398</td>\n",
       "      <td>0.146120</td>\n",
       "      <td>-227</td>\n",
       "      <td>-60.09194</td>\n",
       "      <td>...</td>\n",
       "      <td>724</td>\n",
       "      <td>915</td>\n",
       "      <td>186657.194374</td>\n",
       "      <td>335813.797226</td>\n",
       "      <td>14.389555</td>\n",
       "      <td>6.513883</td>\n",
       "      <td>124</td>\n",
       "      <td>-37</td>\n",
       "      <td>212225.813617</td>\n",
       "      <td>0.018153</td>\n",
       "    </tr>\n",
       "    <tr>\n",
       "      <th>1</th>\n",
       "      <td>2</td>\n",
       "      <td>4.15</td>\n",
       "      <td>1.82</td>\n",
       "      <td>2.34</td>\n",
       "      <td>9.43</td>\n",
       "      <td>0.116663</td>\n",
       "      <td>0.101989</td>\n",
       "      <td>0.092233</td>\n",
       "      <td>-17</td>\n",
       "      <td>-60.05735</td>\n",
       "      <td>...</td>\n",
       "      <td>642</td>\n",
       "      <td>924</td>\n",
       "      <td>188493.166778</td>\n",
       "      <td>297779.637872</td>\n",
       "      <td>0.061764</td>\n",
       "      <td>270.000000</td>\n",
       "      <td>4</td>\n",
       "      <td>0</td>\n",
       "      <td>181851.069142</td>\n",
       "      <td>0.024430</td>\n",
       "    </tr>\n",
       "    <tr>\n",
       "      <th>2</th>\n",
       "      <td>3</td>\n",
       "      <td>1.79</td>\n",
       "      <td>0.98</td>\n",
       "      <td>4.16</td>\n",
       "      <td>26.64</td>\n",
       "      <td>0.116663</td>\n",
       "      <td>0.101989</td>\n",
       "      <td>0.092233</td>\n",
       "      <td>-17</td>\n",
       "      <td>-60.05735</td>\n",
       "      <td>...</td>\n",
       "      <td>642</td>\n",
       "      <td>924</td>\n",
       "      <td>188493.166778</td>\n",
       "      <td>297779.637872</td>\n",
       "      <td>0.061764</td>\n",
       "      <td>270.000000</td>\n",
       "      <td>4</td>\n",
       "      <td>0</td>\n",
       "      <td>181851.069142</td>\n",
       "      <td>0.024430</td>\n",
       "    </tr>\n",
       "    <tr>\n",
       "      <th>3</th>\n",
       "      <td>4</td>\n",
       "      <td>1.58</td>\n",
       "      <td>0.75</td>\n",
       "      <td>5.16</td>\n",
       "      <td>45.76</td>\n",
       "      <td>0.106330</td>\n",
       "      <td>0.091203</td>\n",
       "      <td>0.081784</td>\n",
       "      <td>-18</td>\n",
       "      <td>-60.09058</td>\n",
       "      <td>...</td>\n",
       "      <td>642</td>\n",
       "      <td>916</td>\n",
       "      <td>186861.191308</td>\n",
       "      <td>297779.637872</td>\n",
       "      <td>0.061764</td>\n",
       "      <td>270.000000</td>\n",
       "      <td>2</td>\n",
       "      <td>0</td>\n",
       "      <td>179771.101828</td>\n",
       "      <td>0.024546</td>\n",
       "    </tr>\n",
       "    <tr>\n",
       "      <th>4</th>\n",
       "      <td>5</td>\n",
       "      <td>0.85</td>\n",
       "      <td>1.16</td>\n",
       "      <td>1.04</td>\n",
       "      <td>15.00</td>\n",
       "      <td>0.106330</td>\n",
       "      <td>0.091203</td>\n",
       "      <td>0.081784</td>\n",
       "      <td>-18</td>\n",
       "      <td>-60.08782</td>\n",
       "      <td>...</td>\n",
       "      <td>642</td>\n",
       "      <td>916</td>\n",
       "      <td>186861.191308</td>\n",
       "      <td>297779.637872</td>\n",
       "      <td>0.061764</td>\n",
       "      <td>270.000000</td>\n",
       "      <td>2</td>\n",
       "      <td>0</td>\n",
       "      <td>179771.101828</td>\n",
       "      <td>0.024546</td>\n",
       "    </tr>\n",
       "  </tbody>\n",
       "</table>\n",
       "<p>5 rows × 22 columns</p>\n",
       "</div>"
      ],
      "text/plain": [
       "   id  mean_gs    sd  skewness  kurtosis  current_max  current_mean  \\\n",
       "0   1     2.48  1.33      3.70     24.33     0.164273      0.156398   \n",
       "1   2     4.15  1.82      2.34      9.43     0.116663      0.101989   \n",
       "2   3     1.79  0.98      4.16     26.64     0.116663      0.101989   \n",
       "3   4     1.58  0.75      5.16     45.76     0.106330      0.091203   \n",
       "4   5     0.85  1.16      1.04     15.00     0.106330      0.091203   \n",
       "\n",
       "   current_min  gebco         x  ...  y_im x_im            x_m            y_m  \\\n",
       "0     0.146120   -227 -60.09194  ...   724  915  186657.194374  335813.797226   \n",
       "1     0.092233    -17 -60.05735  ...   642  924  188493.166778  297779.637872   \n",
       "2     0.092233    -17 -60.05735  ...   642  924  188493.166778  297779.637872   \n",
       "3     0.081784    -18 -60.09058  ...   642  916  186861.191308  297779.637872   \n",
       "4     0.081784    -18 -60.08782  ...   642  916  186861.191308  297779.637872   \n",
       "\n",
       "       slope      aspect  rough  bpi     shore_dist  current_range  \n",
       "0  14.389555    6.513883    124  -37  212225.813617       0.018153  \n",
       "1   0.061764  270.000000      4    0  181851.069142       0.024430  \n",
       "2   0.061764  270.000000      4    0  181851.069142       0.024430  \n",
       "3   0.061764  270.000000      2    0  179771.101828       0.024546  \n",
       "4   0.061764  270.000000      2    0  179771.101828       0.024546  \n",
       "\n",
       "[5 rows x 22 columns]"
      ]
     },
     "execution_count": 2,
     "metadata": {},
     "output_type": "execute_result"
    }
   ],
   "source": [
    "train_set = pd.read_csv('../../data/train_set_with_feat_unclean.csv')\n",
    "test_set = pd.read_csv('../../data/test_set_with_feat_unclean.csv')\n",
    "\n",
    "data = pd.concat([train_set])\n",
    "data.head()"
   ]
  },
  {
   "cell_type": "code",
   "execution_count": null,
   "id": "40940463",
   "metadata": {},
   "outputs": [],
   "source": []
  },
  {
   "cell_type": "code",
   "execution_count": 3,
   "id": "c7cc44ee",
   "metadata": {},
   "outputs": [
    {
     "name": "stdout",
     "output_type": "stream",
     "text": [
      "['id', 'mean_gs', 'sd', 'skewness', 'kurtosis', 'current_max', 'current_mean', 'current_min', 'gebco', 'x', 'y', 'sample_type', 'y_im', 'x_im', 'x_m', 'y_m', 'slope', 'aspect', 'rough', 'bpi', 'shore_dist', 'current_range']\n",
      "['slope', 'aspect', 'rough', 'bpi', 'shore_dist']\n"
     ]
    }
   ],
   "source": [
    "print(list(data))\n",
    "posibble_preds = list(data)\n",
    "items_to_remove = ['id', 'mean_gs', 'sd', 'skewness', 'kurtosis', 'current_max', 'current_min','sample_type','y_im', 'x_im', 'x_m', 'y_m', 'current_mean', 'current_range', 'gebco', 'x', 'y']\n",
    "#remove \"base\" as well\n",
    "updated_list = [item for item in posibble_preds if item not in items_to_remove]\n",
    "\n",
    "#data['current_range'] = data['current_max'] - data['current_min']\n",
    "print(updated_list)"
   ]
  },
  {
   "cell_type": "code",
   "execution_count": 4,
   "id": "473055cf",
   "metadata": {},
   "outputs": [],
   "source": [
    "\n",
    "predictors = ['current_mean', 'current_range', 'gebco']\n",
    "response = 'mean_gs'\n"
   ]
  },
  {
   "cell_type": "code",
   "execution_count": 5,
   "id": "e9f98235",
   "metadata": {},
   "outputs": [
    {
     "name": "stdout",
     "output_type": "stream",
     "text": [
      "0      -5.036759e+06\n",
      "1      -4.986116e+06\n",
      "2      -4.986116e+06\n",
      "3      -4.987333e+06\n",
      "4      -4.987276e+06\n",
      "            ...     \n",
      "2105   -5.001167e+06\n",
      "2106   -4.970671e+06\n",
      "2107   -4.951021e+06\n",
      "2108   -4.910076e+06\n",
      "2109   -4.951217e+06\n",
      "Name: x, Length: 2110, dtype: float64\n"
     ]
    }
   ],
   "source": [
    "\n",
    "gdf = gpd.GeoDataFrame(data, geometry=gpd.points_from_xy(data['x'], data['y']))\n",
    "gdf = gdf.set_crs(epsg=4326)  # Assuming WGS84\n",
    "gdf = gdf.to_crs(epsg=32633)  # Convert to UTM zone 33N\n",
    "\n",
    "data['x'] = gdf.geometry.x\n",
    "data['y'] = gdf.geometry.y\n",
    "print(data['x'])\n"
   ]
  },
  {
   "cell_type": "code",
   "execution_count": 6,
   "id": "b91fad3d",
   "metadata": {},
   "outputs": [],
   "source": [
    "\n",
    "coords = data[['x', 'y']].values\n",
    "X = data[predictors].values\n",
    "y = data[response].values.reshape(-1, 1)\n"
   ]
  },
  {
   "cell_type": "code",
   "execution_count": 7,
   "id": "4697df07",
   "metadata": {},
   "outputs": [],
   "source": [
    "import itertools\n",
    "\n",
    "combinations = []\n",
    "for r in range(0, len(updated_list) + 1):\n",
    "    combinations.extend(itertools.combinations(updated_list, r))\n",
    "\n",
    "# Add each combination to A\n",
    "pred_result = [predictors + list(comb) for comb in combinations]"
   ]
  },
  {
   "cell_type": "code",
   "execution_count": 16,
   "id": "641808b3",
   "metadata": {},
   "outputs": [
    {
     "name": "stdout",
     "output_type": "stream",
     "text": [
      "['current_mean', 'current_range', 'gebco']\n"
     ]
    },
    {
     "name": "stderr",
     "output_type": "stream",
     "text": [
      "\n",
      "KeyboardInterrupt\n",
      "\n"
     ]
    }
   ],
   "source": [
    "res_dict = dict()\n",
    "for pred in range(len(pred_result)):\n",
    "    predictorsN = pred_result[pred]\n",
    "    print(predictorsN)\n",
    "    X = data[predictorsN].values\n",
    "    y = data[response].values.reshape(-1, 1)\n",
    "    selector = Sel_BW(coords, y, X, multi=False) # This creates the bandwidths for different input features\n",
    "    bws = selector.search(verbose=True, search_method='golden_section', max_iter=100) # This searches for the optimal bandwidth (fields of influence)\n",
    "    mgwr_model = GWR(coords, y, X, bws)\n",
    "    results = mgwr_model.fit() # This fits the model to the data\n",
    "    res_dict[pred] = results.adj_R2"
   ]
  },
  {
   "cell_type": "code",
   "execution_count": null,
   "id": "4c06588e",
   "metadata": {},
   "outputs": [],
   "source": [
    "print(data[predictorsN].describe())\n",
    "print(data[response].isnull().any())\n",
    "print(data[response].describe())"
   ]
  },
  {
   "cell_type": "code",
   "execution_count": null,
   "id": "4d8dc0ca",
   "metadata": {},
   "outputs": [],
   "source": [
    "for j in res_dict:\n",
    "    print(j)\n",
    "    print(res_dict[j])\n",
    "\n"
   ]
  },
  {
   "cell_type": "code",
   "execution_count": 9,
   "id": "f218ddd1",
   "metadata": {},
   "outputs": [
    {
     "data": {
      "image/png": "[encoded data removed]",
      "text/plain": [
       "<Figure size 1000x600 with 1 Axes>"
      ]
     },
     "metadata": {},
     "output_type": "display_data"
    }
   ],
   "source": [
    "results = res_dict\n",
    "# Number of top results to show\n",
    "x = 10\n",
    "\n",
    "# Sort the dictionary by values in descending order and get the top `x` results\n",
    "sorted_results = dict(sorted(results.items(), key=lambda item: item[1], reverse=True))\n",
    "\n",
    "\n",
    "# Extract keys and values from the sorted dictionary\n",
    "keys = list(sorted_results.keys())\n",
    "keys_str = [str(x) for x in keys]\n",
    "\n",
    "values = list(sorted_results.values())\n",
    "\n",
    "# Plot the results\n",
    "plt.figure(figsize=(10, 6))\n",
    "plt.bar(keys_str, values, color='skyblue')\n",
    "plt.ylim(0.34) \n",
    "plt.xlabel('Keys')\n",
    "plt.ylabel('Values')\n",
    "plt.title(f'Top {x} Results from Dictionary')\n",
    "plt.show()\n"
   ]
  },
  {
   "cell_type": "code",
   "execution_count": 10,
   "id": "d63074a9",
   "metadata": {},
   "outputs": [
    {
     "name": "stdout",
     "output_type": "stream",
     "text": [
      "['current_mean', 'current_range', 'gebco', 'slope', 'rough', 'shore_dist']\n",
      "20\n"
     ]
    }
   ],
   "source": [
    "# Find best combination\n",
    "print(pred_result[list(sorted_results.keys())[0]])\n",
    "print(list(sorted_results.keys())[0])"
   ]
  },
  {
   "cell_type": "code",
   "execution_count": 11,
   "id": "8883ea81",
   "metadata": {},
   "outputs": [
    {
     "name": "stdout",
     "output_type": "stream",
     "text": [
      "['current_mean', 'current_range', 'gebco', 'slope', 'rough', 'shore_dist']\n"
     ]
    }
   ],
   "source": [
    "predictorsN = pred_result[list(sorted_results.keys())[0]]\n",
    "print(predictorsN)\n",
    "X = data[predictorsN].values\n",
    "y = data[response].values.reshape(-1, 1)"
   ]
  },
  {
   "cell_type": "code",
   "execution_count": null,
   "id": "2e9ff0eb",
   "metadata": {},
   "outputs": [],
   "source": [
    "selector = Sel_BW(coords, y, X, multi=False) # This creates the bandwidths for different input features\n",
    "bws = selector.search(verbose=True, search_method='golden_section', max_iter=100) # This searches for the optimal bandwidth (fields of influence)\n",
    "mgwr_model = GWR(coords, y, X, bws)\n",
    "results = mgwr_model.fit() # This fits the model to the data\n",
    "#print(results.summary()) # This prints the summary of the model fit\n",
    "print(results.R2)\n"
   ]
  },
  {
   "cell_type": "code",
   "execution_count": null,
   "id": "b6ca5a4b",
   "metadata": {},
   "outputs": [],
   "source": [
    "print(results.summary())"
   ]
  },
  {
   "cell_type": "code",
   "execution_count": null,
   "id": "f18855d0",
   "metadata": {},
   "outputs": [],
   "source": [
    "\n"
   ]
  },
  {
   "cell_type": "code",
   "execution_count": 13,
   "id": "a6a80a9d",
   "metadata": {},
   "outputs": [],
   "source": [
    "test_data = test_set\n",
    "test_gdf = gpd.GeoDataFrame(test_data, geometry=gpd.points_from_xy(test_data['x'], test_data['y']))\n",
    "test_gdf = test_gdf.set_crs(epsg=4326)\n",
    "test_gdf = test_gdf.to_crs(epsg=32633)\n",
    "\n",
    "test_data['x'] = test_gdf.geometry.x\n",
    "test_data['y'] = test_gdf.geometry.y\n"
   ]
  },
  {
   "cell_type": "code",
   "execution_count": null,
   "id": "0f78b4ed",
   "metadata": {},
   "outputs": [],
   "source": [
    "\n",
    "#test_data['current_range'] = test_data['current_max'] - test_data['current_min']\n"
   ]
  },
  {
   "cell_type": "code",
   "execution_count": null,
   "id": "032670ac",
   "metadata": {},
   "outputs": [
    {
     "name": "stdout",
     "output_type": "stream",
     "text": [
      "['current_mean', 'current_range', 'gebco', 'slope', 'rough', 'shore_dist']\n",
      "Bandwidth:  839.0 , score:  9808.74\n",
      "Bandwidth:  1325.0 , score:  9862.29\n",
      "Bandwidth:  539.0 , score:  9770.04\n",
      "Bandwidth:  354.0 , score:  9705.63\n",
      "Bandwidth:  239.0 , score:  9688.25\n",
      "Bandwidth:  169.0 , score:  9693.23\n",
      "Bandwidth:  283.0 , score:  9694.27\n",
      "Bandwidth:  213.0 , score:  9688.83\n",
      "Bandwidth:  256.0 , score:  9689.97\n",
      "Bandwidth:  229.0 , score:  9687.70\n",
      "Bandwidth:  223.0 , score:  9687.44\n",
      "Bandwidth:  219.0 , score:  9687.90\n",
      "Bandwidth:  225.0 , score:  9687.51\n",
      "Bandwidth:  221.0 , score:  9687.32\n",
      "0.38921718408412287\n"
     ]
    }
   ],
   "source": [
    "top_cand = 1\n",
    "for j in range(top_cand):\n",
    "    predictorsN = pred_result[list(sorted_results.keys())[j]]\n",
    "    print(predictorsN)\n",
    "    X = data[predictorsN].values\n",
    "    y = data[response].values.reshape(-1, 1)\n",
    "    test_coords = test_data[['x', 'y']].values\n",
    "    test_X = test_data[predictorsN].values\n",
    "    selector = Sel_BW(coords, y, X, multi=False) # This creates the bandwidths for different input features\n",
    "    bws = selector.search(verbose=True, search_method='golden_section', max_iter=100) # This searches for the optimal bandwidth (fields of influence)\n",
    "    mgwr_model = GWR(coords, y, X, bws)\n",
    "    results = mgwr_model.fit() # This fits the model to the data\n",
    "    #print(results.summary()) # This prints the summary of the model fit\n",
    "    print(results.R2)\n",
    "    scale = results.scale\n",
    "    residuals = results.resid_response\n",
    "    test_data['mean_gs'] = mgwr_model.predict(test_coords, test_X, scale, residuals).predictions # This predicts the response variable for the test data using the fitted model\n",
    "    submission = test_data[['id', 'mean_gs']]\n",
    "    submission.to_csv(f'../../data/submission/test_submission_mgwr_{list(sorted_results.keys())[j]}_unclean.csv', index=False)\n"
   ]
  },
  {
   "cell_type": "code",
   "execution_count": null,
   "id": "25895ff5",
   "metadata": {},
   "outputs": [],
   "source": [
    "j=4\n",
    "print(list(sorted_results.keys())[j])\n",
    "print(pred_result[list(sorted_results.keys())[j]])\n"
   ]
  },
  {
   "cell_type": "code",
   "execution_count": null,
   "id": "8147ac14",
   "metadata": {},
   "outputs": [],
   "source": [
    "scale = results.scale\n",
    "residuals = results.resid_response\n",
    "test_data['mean_gs'] = mgwr_model.predict(test_coords, test_X, scale, residuals).predictions # This predicts the response variable for the test data using the fitted model\n"
   ]
  },
  {
   "cell_type": "code",
   "execution_count": null,
   "id": "43837f39",
   "metadata": {},
   "outputs": [],
   "source": [
    "\n",
    "submission = test_data[['id', 'mean_gs']]\n",
    "#submission.to_csv('test_submission_mgwr.csv', index=False)\n"
   ]
  },
  {
   "cell_type": "code",
   "execution_count": null,
   "id": "b75fedae",
   "metadata": {},
   "outputs": [
    {
     "name": "stdout",
     "output_type": "stream",
     "text": [
      "Data saved to feature_coding.csv\n"
     ]
    }
   ],
   "source": []
  },
  {
   "cell_type": "markdown",
   "id": "e14a36c0",
   "metadata": {},
   "source": []
  }
 ],
 "metadata": {
  "kernelspec": {
   "display_name": "venv",
   "language": "python",
   "name": "python3"
  },
  "language_info": {
   "codemirror_mode": {
    "name": "ipython",
    "version": 3
   },
   "file_extension": ".py",
   "mimetype": "text/x-python",
   "name": "python",
   "nbconvert_exporter": "python",
   "pygments_lexer": "ipython3",
   "version": "3.12.8"
  }
 },
 "nbformat": 4,
 "nbformat_minor": 5
}
