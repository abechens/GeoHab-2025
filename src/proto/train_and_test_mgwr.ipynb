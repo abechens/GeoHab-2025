{
 "cells": [
  {
   "cell_type": "code",
   "execution_count": 11,
   "id": "afdfcb36",
   "metadata": {},
   "outputs": [],
   "source": [
    "import numpy as np\n",
    "import pandas as pd\n",
    "from mgwr.gwr import MGWR, GWR\n",
    "from mgwr.sel_bw import Sel_BW\n",
    "from shapely.geometry import Point\n",
    "import geopandas as gpd\n",
    "import matplotlib.pyplot as plt\n"
   ]
  },
  {
   "cell_type": "code",
   "execution_count": 12,
   "id": "1a2421ee",
   "metadata": {},
   "outputs": [],
   "source": [
    "\n",
    "data = pd.read_csv('../../data/train.csv')\n"
   ]
  },
  {
   "cell_type": "code",
   "execution_count": 13,
   "id": "c7cc44ee",
   "metadata": {},
   "outputs": [],
   "source": [
    "\n",
    "data['current_range'] = data['current_max'] - data['current_min']\n"
   ]
  },
  {
   "cell_type": "code",
   "execution_count": 14,
   "id": "473055cf",
   "metadata": {},
   "outputs": [],
   "source": [
    "\n",
    "predictors = ['current_mean', 'current_range', 'gebco']\n",
    "response = 'mean_gs'\n"
   ]
  },
  {
   "cell_type": "code",
   "execution_count": 15,
   "id": "e9f98235",
   "metadata": {},
   "outputs": [],
   "source": [
    "\n",
    "gdf = gpd.GeoDataFrame(data, geometry=gpd.points_from_xy(data['x'], data['y']))\n",
    "gdf = gdf.set_crs(epsg=4326)  # Assuming WGS84\n",
    "gdf = gdf.to_crs(epsg=32633)  # Convert to UTM zone 33N\n",
    "\n",
    "data['x'] = gdf.geometry.x\n",
    "data['y'] = gdf.geometry.y\n"
   ]
  },
  {
   "cell_type": "code",
   "execution_count": 16,
   "id": "b91fad3d",
   "metadata": {},
   "outputs": [],
   "source": [
    "\n",
    "coords = data[['x', 'y']].values\n",
    "X = data[predictors].values\n",
    "y = data[response].values.reshape(-1, 1)\n"
   ]
  },
  {
   "cell_type": "code",
   "execution_count": 17,
   "id": "4d8dc0ca",
   "metadata": {},
   "outputs": [
    {
     "name": "stdout",
     "output_type": "stream",
     "text": [
      "Bandwidth:  836.0 , score:  9886.94\n",
      "Bandwidth:  1322.0 , score:  9935.94\n",
      "Bandwidth:  535.0 , score:  9832.32\n",
      "Bandwidth:  349.0 , score:  9759.59\n",
      "Bandwidth:  234.0 , score:  9713.81\n",
      "Bandwidth:  163.0 , score:  9705.43\n",
      "Bandwidth:  119.0 , score:  9720.16\n",
      "Bandwidth:  190.0 , score:  9707.09\n",
      "Bandwidth:  146.0 , score:  9709.61\n",
      "Bandwidth:  173.0 , score:  9705.83\n",
      "Bandwidth:  156.0 , score:  9707.70\n",
      "Bandwidth:  167.0 , score:  9705.41\n",
      "Bandwidth:  169.0 , score:  9705.82\n",
      "Bandwidth:  165.0 , score:  9705.10\n",
      "165.0\n"
     ]
    }
   ],
   "source": [
    "selector = Sel_BW(coords, y, X, multi=False) # This creates the bandwidths for different input features\n",
    "bws = selector.search(verbose=True, search_method='golden_section', max_iter=20) # This searches for the optimal bandwidth (fields of influence)\n",
    "print(bws)"
   ]
  },
  {
   "cell_type": "code",
   "execution_count": 18,
   "id": "2e9ff0eb",
   "metadata": {},
   "outputs": [
    {
     "name": "stdout",
     "output_type": "stream",
     "text": [
      "===========================================================================\n",
      "Model type                                                         Gaussian\n",
      "Number of observations:                                                2110\n",
      "Number of covariates:                                                     4\n",
      "\n",
      "Global Regression Results\n",
      "---------------------------------------------------------------------------\n",
      "Residual sum of squares:                                          15236.636\n",
      "Log-likelihood:                                                   -5079.711\n",
      "AIC:                                                              10167.422\n",
      "AICc:                                                             10169.450\n",
      "BIC:                                                               -883.621\n",
      "R2:                                                                   0.122\n",
      "Adj. R2:                                                              0.121\n",
      "\n",
      "Variable                              Est.         SE  t(Est/SE)    p-value\n",
      "------------------------------- ---------- ---------- ---------- ----------\n",
      "X0                                   2.029      0.103     19.791      0.000\n",
      "X1                                  -3.822      0.862     -4.432      0.000\n",
      "X2                                   2.270      2.288      0.992      0.321\n",
      "X3                                  -0.005      0.000    -13.451      0.000\n",
      "\n",
      "Geographically Weighted Regression (GWR) Results\n",
      "---------------------------------------------------------------------------\n",
      "Spatial kernel:                                           Adaptive bisquare\n",
      "Bandwidth used:                                                     165.000\n",
      "\n",
      "Diagnostic information\n",
      "---------------------------------------------------------------------------\n",
      "Residual sum of squares:                                          10982.323\n",
      "Effective number of parameters (trace(S)):                          110.932\n",
      "Degree of freedom (n - trace(S)):                                  1999.068\n",
      "Sigma estimate:                                                       2.344\n",
      "Log-likelihood:                                                   -4734.287\n",
      "AIC:                                                               9692.439\n",
      "AICc:                                                              9705.099\n",
      "BIC:                                                              10325.354\n",
      "R2:                                                                   0.367\n",
      "Adjusted R2:                                                          0.332\n",
      "Adj. alpha (95%):                                                     0.002\n",
      "Adj. critical t value (95%):                                          3.125\n",
      "\n",
      "Summary Statistics For GWR Parameter Estimates\n",
      "---------------------------------------------------------------------------\n",
      "Variable                   Mean        STD        Min     Median        Max\n",
      "-------------------- ---------- ---------- ---------- ---------- ----------\n",
      "X0                        0.643      2.225     -6.963      0.963      6.352\n",
      "X1                       -6.279     13.852    -52.187     -4.768     39.654\n",
      "X2                        5.738     41.161    -96.468      1.092    155.300\n",
      "X3                       -0.021      0.014     -0.080     -0.020      0.025\n",
      "===========================================================================\n",
      "\n",
      "None\n"
     ]
    }
   ],
   "source": [
    "\n",
    "mgwr_model = GWR(coords, y, X, bws)\n",
    "results = mgwr_model.fit() # This fits the model to the data\n",
    "print(results.summary()) # This prints the summary of the model fit\n"
   ]
  },
  {
   "cell_type": "code",
   "execution_count": 19,
   "id": "f18855d0",
   "metadata": {},
   "outputs": [],
   "source": [
    "\n",
    "test_data = pd.read_csv('../../data/test.csv')\n"
   ]
  },
  {
   "cell_type": "code",
   "execution_count": 20,
   "id": "a6a80a9d",
   "metadata": {},
   "outputs": [],
   "source": [
    "\n",
    "test_gdf = gpd.GeoDataFrame(test_data, geometry=gpd.points_from_xy(test_data['x'], test_data['y']))\n",
    "test_gdf = test_gdf.set_crs(epsg=4326)\n",
    "test_gdf = test_gdf.to_crs(epsg=32633)\n",
    "\n",
    "test_data['x'] = test_gdf.geometry.x\n",
    "test_data['y'] = test_gdf.geometry.y\n"
   ]
  },
  {
   "cell_type": "code",
   "execution_count": 21,
   "id": "0f78b4ed",
   "metadata": {},
   "outputs": [],
   "source": [
    "\n",
    "test_data['current_range'] = test_data['current_max'] - test_data['current_min']\n"
   ]
  },
  {
   "cell_type": "code",
   "execution_count": 22,
   "id": "032670ac",
   "metadata": {},
   "outputs": [],
   "source": [
    "\n",
    "test_coords = test_data[['x', 'y']].values\n",
    "test_X = test_data[predictors].values\n"
   ]
  },
  {
   "cell_type": "code",
   "execution_count": 26,
   "id": "8147ac14",
   "metadata": {},
   "outputs": [],
   "source": [
    "scale = results.scale\n",
    "residuals = results.resid_response\n",
    "test_data['mean_gs'] = mgwr_model.predict(test_coords, test_X, scale, residuals).predictions # This predicts the response variable for the test data using the fitted model\n"
   ]
  },
  {
   "cell_type": "code",
   "execution_count": 27,
   "id": "43837f39",
   "metadata": {},
   "outputs": [],
   "source": [
    "\n",
    "submission = test_data[['id', 'mean_gs']]\n",
    "submission.to_csv('test_submission_mgwr.csv', index=False)\n"
   ]
  }
 ],
 "metadata": {
  "kernelspec": {
   "display_name": ".venv",
   "language": "python",
   "name": "python3"
  },
  "language_info": {
   "codemirror_mode": {
    "name": "ipython",
    "version": 3
   },
   "file_extension": ".py",
   "mimetype": "text/x-python",
   "name": "python",
   "nbconvert_exporter": "python",
   "pygments_lexer": "ipython3",
   "version": "3.10.11"
  }
 },
 "nbformat": 4,
 "nbformat_minor": 5
}
