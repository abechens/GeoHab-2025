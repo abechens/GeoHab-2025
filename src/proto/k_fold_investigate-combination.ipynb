{
 "cells": [
  {
   "cell_type": "markdown",
   "metadata": {},
   "source": [
    "analyzing k fold for mgwr\n"
   ]
  },
  {
   "cell_type": "code",
   "execution_count": 1,
   "metadata": {},
   "outputs": [],
   "source": [
    "import numpy as np\n",
    "import pandas as pd\n",
    "from mgwr.mgwr.gwr import MGWR, GWR\n",
    "from mgwr.mgwr.sel_bw import Sel_BW\n",
    "from shapely.geometry import Point\n",
    "import geopandas as gpd\n",
    "import matplotlib.pyplot as plt\n",
    "from sklearn.model_selection import train_test_split\n",
    "from sklearn.metrics import mean_squared_error, r2_score\n",
    "import pickle\n",
    "\n"
   ]
  },
  {
   "cell_type": "code",
   "execution_count": 15,
   "metadata": {},
   "outputs": [],
   "source": [
    "\n",
    "with open('../../r2_scores_dict.pkl', 'rb') as f:\n",
    "    loaded_r2_scores_dict = pickle.load(f)\n",
    "\n",
    "\n",
    "\n",
    "with open('../../r2_scores_dict_scaled.pkl', 'rb') as f:\n",
    "    loaded_r2_scores_dict_scaled = pickle.load(f)"
   ]
  },
  {
   "cell_type": "code",
   "execution_count": null,
   "metadata": {},
   "outputs": [
    {
     "ename": "TypeError",
     "evalue": "unsupported operand type(s) for -: 'dict' and 'dict'",
     "output_type": "error",
     "traceback": [
      "\u001b[1;31m---------------------------------------------------------------------------\u001b[0m",
      "\u001b[1;31mTypeError\u001b[0m                                 Traceback (most recent call last)",
      "Cell \u001b[1;32mIn[16], line 1\u001b[0m\n\u001b[1;32m----> 1\u001b[0m results \u001b[38;5;241m=\u001b[39m \u001b[43mloaded_r2_scores_dict\u001b[49m\u001b[38;5;241;43m-\u001b[39;49m\u001b[43m \u001b[49m\u001b[43mloaded_r2_scores_dict_scaled\u001b[49m\n\u001b[0;32m      4\u001b[0m sorted_r2_scores \u001b[38;5;241m=\u001b[39m \u001b[38;5;28msorted\u001b[39m(loaded_r2_scores_dict\u001b[38;5;241m.\u001b[39mitems(), key\u001b[38;5;241m=\u001b[39m\u001b[38;5;28;01mlambda\u001b[39;00m item: np\u001b[38;5;241m.\u001b[39mmean(item[\u001b[38;5;241m1\u001b[39m]), reverse\u001b[38;5;241m=\u001b[39m\u001b[38;5;28;01mTrue\u001b[39;00m)\n\u001b[0;32m      6\u001b[0m \u001b[38;5;66;03m# Create boxplots for each feature combination sorted by mean R² score\u001b[39;00m\n",
      "\u001b[1;31mTypeError\u001b[0m: unsupported operand type(s) for -: 'dict' and 'dict'"
     ]
    }
   ],
   "source": [
    "#results = loaded_r2_scores_dict- loaded_r2_scores_dict_scaled\n",
    "results = [i,  loaded_r2_scores_dict[i]- loaded_r2_scores_dict[i] for i in results.keys]\n",
    "\n",
    "sorted_r2_scores = sorted(loaded_r2_scores_dict.items(), key=lambda item: np.mean(item[1]), reverse=True)\n",
    "\n",
    "# Create boxplots for each feature combination sorted by mean R² score\n",
    "plt.figure(figsize=(10, 6))\n",
    "\n",
    "for i, (key, r2_scores) in enumerate(sorted_r2_scores):\n",
    "    plt.boxplot(r2_scores, positions=[i], widths=0.6)\n",
    "\n",
    "plt.xlabel('Feature Combination Index')\n",
    "plt.ylabel('R² Scores')\n",
    "plt.title('Boxplots of R² Scores for Different Feature Combinations (Sorted by Mean)')\n",
    "plt.xticks(range(len(sorted_r2_scores)), [key for key, _ in sorted_r2_scores])\n",
    "plt.grid(True)\n",
    "plt.show()\n",
    "\n",
    "\n"
   ]
  }
 ],
 "metadata": {
  "kernelspec": {
   "display_name": "venv",
   "language": "python",
   "name": "python3"
  },
  "language_info": {
   "codemirror_mode": {
    "name": "ipython",
    "version": 3
   },
   "file_extension": ".py",
   "mimetype": "text/x-python",
   "name": "python",
   "nbconvert_exporter": "python",
   "pygments_lexer": "ipython3",
   "version": "3.12.8"
  }
 },
 "nbformat": 4,
 "nbformat_minor": 2
}
