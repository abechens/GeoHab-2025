{
 "cells": [
  {
   "cell_type": "code",
   "execution_count": 2,
   "id": "ff4110a3",
   "metadata": {},
   "outputs": [],
   "source": [
    "import numpy as np\n",
    "import pandas as pd\n",
    "from mgwr.mgwr.gwr import MGWR, GWR\n",
    "from mgwr.mgwr.sel_bw import Sel_BW\n",
    "from shapely.geometry import Point\n",
    "import geopandas as gpd\n",
    "import matplotlib.pyplot as plt\n",
    "from sklearn.model_selection import train_test_split\n",
    "from sklearn.metrics import mean_squared_error, r2_score\n",
    "import pickle\n",
    "import plotly.express as px\n",
    "import plotly.graph_objects as go\n",
    "import rasterio as rs\n"
   ]
  },
  {
   "cell_type": "code",
   "execution_count": 4,
   "id": "88abf462",
   "metadata": {},
   "outputs": [],
   "source": [
    "\n",
    "with open('../../k_fold_split_Group_pred.pkl', 'rb') as f:\n",
    "    loaded_r2_scores_dict = pickle.load(f)\n",
    "    loaded_grain_pred_group = pickle.load(f)\n",
    "\n",
    "\n",
    "\n",
    "\n",
    "train_set = pd.read_csv('../../data/train_set_with_feat_cleanCorr.csv')\n",
    "\n",
    "\n",
    "\n",
    "\n",
    "\n"
   ]
  },
  {
   "cell_type": "code",
   "execution_count": 5,
   "id": "54e481ac",
   "metadata": {},
   "outputs": [
    {
     "name": "stdout",
     "output_type": "stream",
     "text": [
      "109\n"
     ]
    }
   ],
   "source": [
    "#Split: \n",
    "with open('../../k_fold_investigate_errors.pkl', 'rb') as f:\n",
    "    loaded_r2_scores_dict = pickle.load(f)\n",
    "    loaded_grain_pred = pickle.load(f)\n",
    "\n",
    "train_set_whole = pd.read_csv('../../data/train_set_with_feat_cleanCorr.csv')\n",
    "train_set = train_set_whole\n",
    "\n",
    "\n",
    "med_grain_pred = {keys: np.nanmedian(loaded_grain_pred[keys],axis=0) for keys in loaded_grain_pred.keys()}\n",
    "\n",
    "\n",
    "diff_grain_size = {keys: train_set['mean_gs']-med_grain_pred[keys] for keys in  loaded_grain_pred.keys()}\n",
    "\n",
    "key_to_watch = 20\n",
    "error_thres = 5\n",
    "idx_error = np.abs(diff_grain_size[key_to_watch])>=error_thres # True where we have outliers\n",
    "\n",
    "idx_Corr = ~idx_error \n",
    "\n",
    "print(idx_error.sum())"
   ]
  },
  {
   "cell_type": "code",
   "execution_count": null,
   "id": "4091e6c7",
   "metadata": {},
   "outputs": [],
   "source": [
    "\n",
    "for j in range(len(loaded_grain_pred_group[1])):\n",
    "    loaded_grain_pred_group[2][j][idx_error] = loaded_grain_pred_group[1][j][idx_error]\n"
   ]
  },
  {
   "cell_type": "code",
   "execution_count": null,
   "id": "bf143dee",
   "metadata": {},
   "outputs": [
    {
     "name": "stdout",
     "output_type": "stream",
     "text": [
      "[2.84032001 1.89988481 1.89552897 ... 2.16751538 2.783232   1.96203855]\n"
     ]
    }
   ],
   "source": [
    "med_grain_pred_group = np.nanmedian(loaded_grain_pred_group[2],axis=0)\n",
    "print(med_grain_pred_group)"
   ]
  },
  {
   "cell_type": "code",
   "execution_count": null,
   "id": "2403ed1e",
   "metadata": {},
   "outputs": [
    {
     "data": {
      "text/plain": [
       "0.5717815708586567"
      ]
     },
     "execution_count": 7,
     "metadata": {},
     "output_type": "execute_result"
    }
   ],
   "source": [
    "r2_score(train_set['mean_gs'], med_grain_pred_group)\n",
    "\n",
    "\n"
   ]
  },
  {
   "cell_type": "code",
   "execution_count": null,
   "id": "c1be10f9",
   "metadata": {},
   "outputs": [
    {
     "data": {
      "text/plain": [
       "0.3752491165319317"
      ]
     },
     "execution_count": 13,
     "metadata": {},
     "output_type": "execute_result"
    }
   ],
   "source": [
    "##Reference\n",
    "med_grain_pred_ref = np.nanmedian(loaded_grain_pred_group[3],axis=0)\n",
    "r2_score(train_set['mean_gs'], med_grain_pred_ref)\n"
   ]
  }
 ],
 "metadata": {
  "kernelspec": {
   "display_name": "venv",
   "language": "python",
   "name": "python3"
  },
  "language_info": {
   "codemirror_mode": {
    "name": "ipython",
    "version": 3
   },
   "file_extension": ".py",
   "mimetype": "text/x-python",
   "name": "python",
   "nbconvert_exporter": "python",
   "pygments_lexer": "ipython3",
   "version": "3.12.8"
  }
 },
 "nbformat": 4,
 "nbformat_minor": 5
}
