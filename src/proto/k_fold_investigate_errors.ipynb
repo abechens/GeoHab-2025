{
 "cells": [
  {
   "cell_type": "markdown",
   "metadata": {},
   "source": [
    "analyzing k fold errors for mgwr\n"
   ]
  },
  {
   "cell_type": "code",
   "execution_count": null,
   "metadata": {},
   "outputs": [],
   "source": [
    "import numpy as np\n",
    "import pandas as pd\n",
    "from mgwr.mgwr.gwr import MGWR, GWR\n",
    "from mgwr.mgwr.sel_bw import Sel_BW\n",
    "from shapely.geometry import Point\n",
    "import geopandas as gpd\n",
    "import matplotlib.pyplot as plt\n",
    "from sklearn.model_selection import train_test_split\n",
    "from sklearn.metrics import mean_squared_error, r2_score\n",
    "import pickle\n",
    "import plotly.express as px\n",
    "import plotly.graph_objects as go\n",
    "import rasterio as rs\n"
   ]
  },
  {
   "cell_type": "code",
   "execution_count": null,
   "metadata": {},
   "outputs": [],
   "source": [
    "\n",
    "with open('../../k_fold_investigate_errors.pkl', 'rb') as f:\n",
    "    loaded_r2_scores_dict = pickle.load(f)\n",
    "    loaded_grain_pred = pickle.load(f)\n",
    "\n",
    "\n",
    "\n",
    "\n",
    "train_set = pd.read_csv('../../data/train_set_with_feat_cleanCorr.csv')\n",
    "\n",
    "\n",
    "\n",
    "\n",
    "\n"
   ]
  },
  {
   "cell_type": "code",
   "execution_count": null,
   "metadata": {},
   "outputs": [],
   "source": []
  },
  {
   "cell_type": "code",
   "execution_count": null,
   "metadata": {},
   "outputs": [],
   "source": [
    "results = loaded_r2_scores_dict\n",
    "\n",
    "sorted_r2_scores = sorted(loaded_r2_scores_dict.items(), key=lambda item: np.nanmean(item[1]), reverse=True)\n",
    "sorted_r2_scores = sorted_r2_scores[:15]\n",
    "# Create boxplots for each feature combination sorted by mean R² score\n",
    "plt.figure(figsize=(10, 6))\n",
    "\n",
    "for i, (key, r2_scores) in enumerate(sorted_r2_scores):\n",
    "    plt.boxplot(r2_scores, positions=[i], widths=0.6)\n",
    "\n",
    "plt.xlabel('Feature Combination Index')\n",
    "plt.ylabel('R² Scores')\n",
    "plt.title('Boxplots of R² Scores for  Feature Combinations (Sorted by Mean)')\n",
    "plt.xticks(range(len(sorted_r2_scores)), [key for key, _ in sorted_r2_scores])\n",
    "plt.grid(True)\n",
    "plt.show()\n",
    "\n",
    "\n"
   ]
  },
  {
   "cell_type": "code",
   "execution_count": null,
   "metadata": {},
   "outputs": [],
   "source": [
    "## Want to check diff between med-predictions vs. real data for each model\n",
    "\n",
    "#first for each model, calculate median\n",
    "\n",
    "med_grain_pred = {keys: np.nanmedian(loaded_grain_pred[keys],axis=0) for keys in loaded_grain_pred.keys()}\n",
    "\n",
    "\n",
    "diff_grain_size = {keys: train_set['mean_gs']-med_grain_pred[keys] for keys in  loaded_grain_pred.keys()}\n"
   ]
  },
  {
   "cell_type": "code",
   "execution_count": null,
   "metadata": {},
   "outputs": [],
   "source": [
    "# Function to calculate slope and aspect for non-square cells\n",
    "def calculate_slope_aspect(dem, cell_size_x, cell_size_y):\n",
    "    dzdx = (dem[:, 2:] - dem[:, :-2]) / (2 * cell_size_x)\n",
    "    dzdy = (dem[2:, :] - dem[:-2, :]) / (2 * cell_size_y)\n",
    "   \n",
    "    grid_size_y = np.max((dzdx.shape[0],dzdy.shape[0]))\n",
    "    grid_size_x = np.max((dzdx.shape[1],dzdy.shape[1]))\n",
    "    #print(grid_size)\n",
    "    dzdx = np.pad(dzdx, ((0, 0), (1, 1)), mode='edge')\n",
    "    dzdy = np.pad(dzdy, ((1, 1), (0, 0)), mode='edge')\n",
    "\n",
    "    slope = np.arctan(np.sqrt(dzdx**2 + dzdy**2)) * (180 / np.pi)\n",
    "    aspect = np.arctan2(dzdy, -dzdx) * (180 / np.pi)\n",
    "    aspect = np.where(aspect < 0, 360 + aspect, aspect)\n",
    "\n",
    "    return slope, aspect\n",
    "\n",
    "\n",
    "# Create the plotly figure\n",
    "gebco = rs.open(r'..\\..\\data\\auxiliary_data\\gebco.tif')\n",
    "depth = gebco.read(1)\n",
    "\n",
    "\n",
    "slope, aspect = calculate_slope_aspect(depth, 263, 463)"
   ]
  },
  {
   "cell_type": "code",
   "execution_count": null,
   "metadata": {},
   "outputs": [],
   "source": [
    "\n",
    "key_to_watch = 20\n",
    "\n",
    "fig = px.imshow(slope, color_continuous_scale='temps', title='Depth with Data Points')\n",
    "fig.update_layout(coloraxis_showscale=False)\n",
    "\n",
    "\n",
    "\n",
    "# Add scatter plot for the data points\n",
    "fig.add_trace(go.Scatter(\n",
    "    x=train_set['x_im'],\n",
    "    y=train_set['y_im'],\n",
    "    mode='markers',\n",
    "    marker=dict(size=1, color=diff_grain_size[key_to_watch], colorscale='magma', colorbar=dict(title='Grain size')),\n",
    "    name='Data Points'\n",
    "))\n",
    "\n",
    "# Update layout\n",
    "fig.update_layout(\n",
    "    xaxis_title='Column',\n",
    "    yaxis_title='Row',\n",
    "    yaxis=dict(autorange='reversed')  # Reverse the y-axis to match the image orientation\n",
    ")\n",
    "\n",
    "# Show the plot\n",
    "fig.show()"
   ]
  },
  {
   "cell_type": "code",
   "execution_count": null,
   "metadata": {},
   "outputs": [],
   "source": [
    "error_thres = 5\n",
    "idx_error = np.abs(diff_grain_size[key_to_watch])>=error_thres\n",
    "\n",
    "idx_Corr = idx_error == False\n",
    "error_dataframe = train_set.loc[idx_error]\n",
    "correct_dataframe = train_set.loc[idx_Corr]\n"
   ]
  },
  {
   "cell_type": "code",
   "execution_count": null,
   "metadata": {},
   "outputs": [],
   "source": [
    "print(error_dataframe.describe())\n"
   ]
  },
  {
   "cell_type": "code",
   "execution_count": null,
   "metadata": {},
   "outputs": [],
   "source": [
    "print(correct_dataframe.describe())"
   ]
  },
  {
   "cell_type": "code",
   "execution_count": null,
   "metadata": {},
   "outputs": [],
   "source": [
    "## Could we split the datasets? \n",
    "\n"
   ]
  },
  {
   "cell_type": "code",
   "execution_count": null,
   "metadata": {},
   "outputs": [],
   "source": []
  },
  {
   "cell_type": "code",
   "execution_count": null,
   "metadata": {},
   "outputs": [],
   "source": []
  }
 ],
 "metadata": {
  "kernelspec": {
   "display_name": "venv",
   "language": "python",
   "name": "python3"
  },
  "language_info": {
   "codemirror_mode": {
    "name": "ipython",
    "version": 3
   },
   "file_extension": ".py",
   "mimetype": "text/x-python",
   "name": "python",
   "nbconvert_exporter": "python",
   "pygments_lexer": "ipython3",
   "version": "3.12.8"
  }
 },
 "nbformat": 4,
 "nbformat_minor": 2
}
